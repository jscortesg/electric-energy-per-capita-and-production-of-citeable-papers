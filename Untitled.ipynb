{
 "cells": [
  {
   "cell_type": "markdown",
   "metadata": {},
   "source": [
    "# Country Data table and functions"
   ]
  },
  {
   "cell_type": "code",
   "execution_count": 1,
   "metadata": {},
   "outputs": [],
   "source": [
    "import pandas as pd\n",
    "import numpy as np\n",
    "import re"
   ]
  },
  {
   "cell_type": "code",
   "execution_count": 2,
   "metadata": {},
   "outputs": [],
   "source": [
    "def sin_par(country):\n",
    "    \n",
    "    return re.sub(r' \\([^)]*\\)', '', country)"
   ]
  },
  {
   "cell_type": "code",
   "execution_count": 3,
   "metadata": {},
   "outputs": [],
   "source": [
    "def sin_num(country):\n",
    "    \n",
    "    return re.sub(r'\\d', '', country)"
   ]
  },
  {
   "cell_type": "code",
   "execution_count": 4,
   "metadata": {},
   "outputs": [],
   "source": [
    "def main_tab():\n",
    "    # YOUR CODE HERE\n",
    "    \n",
    "    ##Energy dataframe\n",
    "    \n",
    "    cols = {\"Unnamed: 2\": \"Country\", \"Petajoules\": \"Energy Supply\",\n",
    "        \"Gigajoules\": \"Energy Supply per Capita\", \"%\": \"% Renewable\"}\n",
    "    \n",
    "    data1 = pd.read_excel(\"assets/Energy Indicators.xls\", skiprows=17, skipfooter=38)\n",
    "\n",
    "    Energy = data1.drop([\"Unnamed: 0\", \"Unnamed: 1\"], axis=1).rename(columns=cols).replace(\"...\", np.nan)\n",
    "    \n",
    "    Energy[\"Energy Supply\"] = Energy[\"Energy Supply\"].apply(lambda x: pow(10,6)*x)\n",
    "\n",
    "    Energy[\"Country\"] = Energy[\"Country\"].apply(sin_par).apply(sin_num).replace({\"Republic of Korea\": \"South Korea\", \"United States of America\": \"United States\", \n",
    "                                                                             \"United Kingdom of Great Britain and Northern Ireland\": \"United Kingdom\", \"China, Hong Kong Special Administrative Region\": \"Hong Kong\"})\n",
    "    \n",
    "    ##GPD dataframe\n",
    "    \n",
    "    colcn = {\"Country Name\": \"Country\"}\n",
    "\n",
    "    GDP = pd.read_csv(\"assets/world_bank.csv\", skiprows=4).replace({\"Korea, Rep.\": \"South Korea\", \"Iran, Islamic Rep.\": \"Iran\",\n",
    "                                                                \"Hong Kong SAR, China\": \"Hong Kong\"}).rename(columns=colcn)\n",
    "    \n",
    "    ##Scimago dataframe\n",
    "    \n",
    "    ScimEn = pd.read_excel(\"assets/scimagojr-3.xlsx\")\n",
    "    \n",
    "    \n",
    "    #merged dataframe\n",
    "    \n",
    "    \n",
    "    merged = pd.merge(Energy, GDP, how=\"left\", on=\"Country\")\n",
    "\n",
    "    merged2 = pd.merge(merged, ScimEn, how=\"left\", on=\"Country\").set_index(\"Country\")\n",
    "\n",
    "    colsf = ['Rank', 'Documents', 'Citable documents', 'Citations', 'Self-citations', 'Citations per document', 'H index',\n",
    "         'Energy Supply', 'Energy Supply per Capita', '% Renewable', '2006', '2007',\n",
    "         '2008', '2009', '2010', '2011', '2012', '2013', '2014', '2015']\n",
    "\n",
    "    merged3 = merged2[colsf].sort_values(by=[\"Rank\"]).head(15)\n",
    "\n",
    "    return(merged3)"
   ]
  },
  {
   "cell_type": "markdown",
   "metadata": {},
   "source": [
    "# Correlation between Electric energy supply per capita and number of citeable papers"
   ]
  },
  {
   "cell_type": "code",
   "execution_count": 5,
   "metadata": {},
   "outputs": [],
   "source": [
    "def correlation():\n",
    "    # YOUR CODE HERE\n",
    "    \n",
    "    datosfin = main_tab()\n",
    "    \n",
    "    datosfin[\"Pop est\"] = datosfin[\"Energy Supply\"]/datosfin[\"Energy Supply per Capita\"]\n",
    "    \n",
    "    datosfin[\"Citable per Capita\"] = datosfin[\"Citable documents\"]/datosfin[\"Pop est\"]\n",
    "    \n",
    "    corr9 = datosfin[\"Citable per Capita\"].corr(datosfin[\"Energy Supply per Capita\"])\n",
    "    \n",
    "    return(corr9)"
   ]
  },
  {
   "cell_type": "code",
   "execution_count": 6,
   "metadata": {},
   "outputs": [
    {
     "data": {
      "text/plain": [
       "0.7940010435442946"
      ]
     },
     "execution_count": 6,
     "metadata": {},
     "output_type": "execute_result"
    }
   ],
   "source": [
    "correlation()"
   ]
  },
  {
   "cell_type": "markdown",
   "metadata": {},
   "source": [
    "# Sum, mean, and std deviation for the estimated population of each country by continent"
   ]
  },
  {
   "cell_type": "code",
   "execution_count": 7,
   "metadata": {},
   "outputs": [],
   "source": [
    "def cont_stat():\n",
    "    # YOUR CODE HERE\n",
    "    \n",
    "    datosfin = main_tab()\n",
    "    \n",
    "    datosfin[\"Pop est\"] = datosfin[\"Energy Supply\"]/datosfin[\"Energy Supply per Capita\"]\n",
    "    \n",
    "    ContinentDict  = {'China':'Asia', \n",
    "                  'United States':'North America', \n",
    "                  'Japan':'Asia', \n",
    "                  'United Kingdom':'Europe', \n",
    "                  'Russian Federation':'Europe', \n",
    "                  'Canada':'North America', \n",
    "                  'Germany':'Europe', \n",
    "                  'India':'Asia',\n",
    "                  'France':'Europe', \n",
    "                  'South Korea':'Asia', \n",
    "                  'Italy':'Europe', \n",
    "                  'Spain':'Europe', \n",
    "                  'Iran':'Asia',\n",
    "                  'Australia':'Australia', \n",
    "                  'Brazil':'South America'}\n",
    "    \n",
    "    s = pd.Series(ContinentDict)\n",
    "    \n",
    "    datosfin[\"Continent\"] = s\n",
    "    \n",
    "    popdat = datosfin[[\"Pop est\", \"Continent\"]].pivot_table(values=\"Pop est\",\n",
    "                                               index=\"Continent\",\n",
    "                                               aggfunc=[\"count\", np.sum, np.mean, np.std])  #.fillna(0)\n",
    "    \n",
    "    indexn = [\"Asia\", \"Australia\", \"Europe\", \"North America\", \"South America\"]\n",
    "\n",
    "    popdatstack = popdat.stack()\n",
    "\n",
    "    popdatstack.index = indexn\n",
    "    \n",
    "    popdatstack = popdatstack.rename(columns={\"count\": \"size\"})\n",
    "\n",
    "    return(popdatstack)\n",
    "    "
   ]
  },
  {
   "cell_type": "code",
   "execution_count": 8,
   "metadata": {},
   "outputs": [
    {
     "data": {
      "text/html": [
       "<div>\n",
       "<style scoped>\n",
       "    .dataframe tbody tr th:only-of-type {\n",
       "        vertical-align: middle;\n",
       "    }\n",
       "\n",
       "    .dataframe tbody tr th {\n",
       "        vertical-align: top;\n",
       "    }\n",
       "\n",
       "    .dataframe thead th {\n",
       "        text-align: right;\n",
       "    }\n",
       "</style>\n",
       "<table border=\"1\" class=\"dataframe\">\n",
       "  <thead>\n",
       "    <tr style=\"text-align: right;\">\n",
       "      <th></th>\n",
       "      <th>size</th>\n",
       "      <th>sum</th>\n",
       "      <th>mean</th>\n",
       "      <th>std</th>\n",
       "    </tr>\n",
       "  </thead>\n",
       "  <tbody>\n",
       "    <tr>\n",
       "      <th>Asia</th>\n",
       "      <td>5</td>\n",
       "      <td>2.898666e+09</td>\n",
       "      <td>5.797333e+08</td>\n",
       "      <td>6.790979e+08</td>\n",
       "    </tr>\n",
       "    <tr>\n",
       "      <th>Australia</th>\n",
       "      <td>1</td>\n",
       "      <td>2.331602e+07</td>\n",
       "      <td>2.331602e+07</td>\n",
       "      <td>NaN</td>\n",
       "    </tr>\n",
       "    <tr>\n",
       "      <th>Europe</th>\n",
       "      <td>6</td>\n",
       "      <td>4.579297e+08</td>\n",
       "      <td>7.632161e+07</td>\n",
       "      <td>3.464767e+07</td>\n",
       "    </tr>\n",
       "    <tr>\n",
       "      <th>North America</th>\n",
       "      <td>2</td>\n",
       "      <td>3.528552e+08</td>\n",
       "      <td>1.764276e+08</td>\n",
       "      <td>1.996696e+08</td>\n",
       "    </tr>\n",
       "    <tr>\n",
       "      <th>South America</th>\n",
       "      <td>1</td>\n",
       "      <td>2.059153e+08</td>\n",
       "      <td>2.059153e+08</td>\n",
       "      <td>NaN</td>\n",
       "    </tr>\n",
       "  </tbody>\n",
       "</table>\n",
       "</div>"
      ],
      "text/plain": [
       "               size           sum          mean           std\n",
       "Asia              5  2.898666e+09  5.797333e+08  6.790979e+08\n",
       "Australia         1  2.331602e+07  2.331602e+07           NaN\n",
       "Europe            6  4.579297e+08  7.632161e+07  3.464767e+07\n",
       "North America     2  3.528552e+08  1.764276e+08  1.996696e+08\n",
       "South America     1  2.059153e+08  2.059153e+08           NaN"
      ]
     },
     "execution_count": 8,
     "metadata": {},
     "output_type": "execute_result"
    }
   ],
   "source": [
    "cont_stat()"
   ]
  }
 ],
 "metadata": {
  "kernelspec": {
   "display_name": "Python 3",
   "language": "python",
   "name": "python3"
  },
  "language_info": {
   "codemirror_mode": {
    "name": "ipython",
    "version": 3
   },
   "file_extension": ".py",
   "mimetype": "text/x-python",
   "name": "python",
   "nbconvert_exporter": "python",
   "pygments_lexer": "ipython3",
   "version": "3.8.5"
  }
 },
 "nbformat": 4,
 "nbformat_minor": 4
}
